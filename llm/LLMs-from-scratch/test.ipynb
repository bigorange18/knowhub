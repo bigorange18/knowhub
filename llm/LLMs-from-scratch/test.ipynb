{
 "cells": [
  {
   "cell_type": "code",
   "execution_count": 7,
   "metadata": {},
   "outputs": [
    {
     "data": {
      "text/plain": [
       "device(type='cuda')"
      ]
     },
     "execution_count": 7,
     "metadata": {},
     "output_type": "execute_result"
    }
   ],
   "source": [
    "import torch\n",
    "device = torch.device('cuda' if torch.cuda.is_available() else \"cpu\")\n",
    "device"
   ]
  },
  {
   "cell_type": "code",
   "execution_count": 15,
   "metadata": {},
   "outputs": [
    {
     "data": {
      "text/plain": [
       "torch.Size([4, 4])"
      ]
     },
     "execution_count": 15,
     "metadata": {},
     "output_type": "execute_result"
    }
   ],
   "source": [
    "mat_1 = torch.rand((4,5)).to(device)\n",
    "mat_2 = torch.rand((5,4)).to(device)\n",
    "mat_res = mat_1 @ mat_2\n",
    "mat_res.shape"
   ]
  },
  {
   "cell_type": "code",
   "execution_count": 25,
   "metadata": {},
   "outputs": [
    {
     "data": {
      "text/plain": [
       "tensor([[0.4681, 0.2252, 0.9084, 0.8149, 0.5012],\n",
       "        [0.4526, 0.3134, 0.3927, 0.7180, 0.0953],\n",
       "        [0.6256, 0.0612, 0.9739, 0.1663, 0.9252],\n",
       "        [0.2053, 0.8767, 0.4849, 0.5040, 0.1924]])"
      ]
     },
     "execution_count": 25,
     "metadata": {},
     "output_type": "execute_result"
    }
   ],
   "source": [
    "mat_2 = torch.rand((5,4))\n",
    "a = mat_2.transpose(1,0)\n",
    "a"
   ]
  },
  {
   "cell_type": "code",
   "execution_count": 31,
   "metadata": {},
   "outputs": [
    {
     "data": {
      "text/plain": [
       "tensor([[0.2548, 0.2058, 0.3012, 0.3161, 0.2545],\n",
       "        [0.2509, 0.2248, 0.1799, 0.2869, 0.1696],\n",
       "        [0.2983, 0.1747, 0.3217, 0.1653, 0.3889],\n",
       "        [0.1959, 0.3948, 0.1972, 0.2317, 0.1869]])"
      ]
     },
     "execution_count": 31,
     "metadata": {},
     "output_type": "execute_result"
    }
   ],
   "source": [
    "import torch.nn.functional as F\n",
    "\n",
    "b = F.softmax(a, dim=0)\n",
    "b"
   ]
  },
  {
   "cell_type": "code",
   "execution_count": 34,
   "metadata": {},
   "outputs": [
    {
     "data": {
      "text/plain": [
       "tensor(0.3948)"
      ]
     },
     "execution_count": 34,
     "metadata": {},
     "output_type": "execute_result"
    }
   ],
   "source": [
    "max(b[:,1])"
   ]
  },
  {
   "cell_type": "code",
   "execution_count": 35,
   "metadata": {},
   "outputs": [],
   "source": [
    "import torch\n",
    "import torch.nn as nn\n",
    "class LanguageModel(nn.Module):\n",
    "    def __init__(self, vocab_size,  *args, **kwargs) -> None:\n",
    "        super().__init__(*args, **kwargs)\n",
    "        self.token_embedding = nn.Embedding(vocab_size, vocab_size)\n",
    "        \n",
    "    def forward(self, tokens=None):\n",
    "        logits = self.token_embedding(tokens)\n",
    "\n",
    "        if tokens is None:\n",
    "            loss = None\n",
    "        else:\n",
    "            B, T, C = logits.shape\n",
    "            logits = logits.view(B*T, C)\n",
    "            targets = tokens.view(B*T)\n",
    "            loss = F.cross_entropy(logits, targets)\n",
    "        return logits, loss\n",
    "    \n",
    "\n",
    "    def generate(self, index, max_new_tokens):\n",
    "        for _ in range(max_new_tokens):\n",
    "            logits, loss = self(index)\n",
    "            logits = logits[:, -1, :] \n",
    "            probs = F.softmax(logits, dim=-1)\n",
    "            index_next = torch.multinomial(probs, num_samples=1)\n",
    "            index = torch.cat((index, index_next), num_samples=1)\n",
    "        return \n",
    "    \n",
    "model = LanguageModel(512).to(device)\n",
    "\n",
    "        "
   ]
  },
  {
   "cell_type": "code",
   "execution_count": 37,
   "metadata": {},
   "outputs": [
    {
     "data": {
      "text/plain": [
       "tensor([[453, 106, 494, 436, 350, 166, 284, 441, 287, 477]], device='cuda:0')"
      ]
     },
     "execution_count": 37,
     "metadata": {},
     "output_type": "execute_result"
    }
   ],
   "source": [
    "content = torch.randint(0, 512, (1, 10)).to(device)\n",
    "content"
   ]
  },
  {
   "cell_type": "code",
   "execution_count": null,
   "metadata": {},
   "outputs": [],
   "source": []
  }
 ],
 "metadata": {
  "kernelspec": {
   "display_name": "nn",
   "language": "python",
   "name": "python3"
  },
  "language_info": {
   "codemirror_mode": {
    "name": "ipython",
    "version": 3
   },
   "file_extension": ".py",
   "mimetype": "text/x-python",
   "name": "python",
   "nbconvert_exporter": "python",
   "pygments_lexer": "ipython3",
   "version": "3.11.11"
  },
  "orig_nbformat": 4
 },
 "nbformat": 4,
 "nbformat_minor": 2
}
